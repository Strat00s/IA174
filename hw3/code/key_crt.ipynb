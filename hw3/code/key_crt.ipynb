{
 "cells": [
  {
   "cell_type": "code",
   "execution_count": 21,
   "id": "edc7a3d4",
   "metadata": {},
   "outputs": [
    {
     "name": "stdout",
     "output_type": "stream",
     "text": [
      "[2, 5, 13, 17, 29, 37, 41, 53, 61, 73, 89, 97, 101, 109, 113, 137, 149, 157, 173, 181, 193, 197]\n",
      "[0, 0, 1, 16, 10, 18, 33, 32, 19, 65, 0, 16, 28, 73, 9, 40, 76, 52, 133, 146, 25, 3]\n",
      "10578431162068173787077898949477741920\n",
      "940258296925944608662895221235664431210\n",
      "42535295865117307932921825928971027169\n",
      "10578431162068173787077898949477741920\n",
      "Random point:\n",
      "x_ori = 11253737311805310201712021750167049282416832145806005333050722521427076474569\n",
      "y_ori = 14314894796979960417397376206802745975552465655736319691232702477663402075062\n",
      "Multiplied Random point:\n",
      "x_pre = 11248116353149380985927843528280793671594916393333454353417518141283646579667\n",
      "y_pre = 29612834194426065668798480166312539171658933489371776557829630010019585637575\n"
     ]
    }
   ],
   "source": [
    "n1 = 940258296925944608662895221235664431210\n",
    "n2 = 42535295865117307932921825928971027169\n",
    "\n",
    "gen_x = 23738974802862558648298862926228992519830411363340623631850893097053769277762\n",
    "gen_y = 4527474540349461877783199522381786049485080389766292554055872436429664703463\n",
    "\n",
    "p = 0x586be5268256ae12d62631efc2784d02dcff420d262da9cd94c62d5808bee24d\n",
    "a = 0x7e7\n",
    "b = 0x0\n",
    "\n",
    "pub_x = 0x1a9112ae9ac6b30cb8f899f9ed76b4c3826b758d5c98a840afd9eee17d09fe73\n",
    "pub_y = 0x39525bafcf33493141fd3f57d170f69af4ce41cd76ddb0f418781db2b4da5a8c\n",
    "\n",
    "ecurve      = EllipticCurve(GF(p), [a, b])\n",
    "generator   = ecurve.point((gen_x, gen_y))\n",
    "pubkey      = ecurve.point((pub_x, pub_y))\n",
    "order       = ecurve.order()\n",
    "factors_all = [x^y for (x, y) in order.factor()]\n",
    "factors     = factors_all[:-1]\n",
    "\n",
    "\n",
    "remainders = [0, 0, 1, 16, 10, 18, 33, 32, 19, 65, 0, 16, 28, 73, 9, 40, 76, 52, 133, 146, 25, 3]\n",
    "\n",
    "print(factors)\n",
    "print(remainders)\n",
    "\n",
    "n = crt(remainders, factors)\n",
    "modulus = prod(factors)\n",
    "\n",
    "print(n)\n",
    "print(modulus)\n",
    "\n",
    "\n",
    "G = ecurve.point((0x19905ED22F9466CDF2FFC77877FD5A5519E11143FC9D691DED44ED6809AB4F50, 0x4AAC2A737CD8D1C15EE3D7C7F1B30F1E685599CB3C117012DF1AA67AC66AE384))\n",
    "print(G.order())\n",
    "\n",
    "while True:\n",
    "    if G * n == pubkey:\n",
    "        print(n)\n",
    "        break\n",
    "    n += modulus\n",
    "\n",
    "#get predicted point coordinates\n",
    "rng_point = ecurve.random_point()\n",
    "print(\"Random point:\")\n",
    "print(f\"x_ori = {rng_point[0]}\")\n",
    "print(f\"y_ori = {rng_point[1]}\")\n",
    "\n",
    "rng_point = rng_point * n\n",
    "print(\"Multiplied Random point:\")\n",
    "print(f\"x_pre = {rng_point[0]}\")\n",
    "print(f\"y_pre = {rng_point[1]}\")\n"
   ]
  },
  {
   "cell_type": "code",
   "execution_count": null,
   "id": "eade1e8f",
   "metadata": {},
   "outputs": [],
   "source": []
  },
  {
   "cell_type": "code",
   "execution_count": null,
   "id": "952ccc7a",
   "metadata": {},
   "outputs": [],
   "source": []
  },
  {
   "cell_type": "code",
   "execution_count": null,
   "id": "7fcb4274",
   "metadata": {},
   "outputs": [],
   "source": []
  }
 ],
 "metadata": {
  "kernelspec": {
   "display_name": "SageMath 9.7",
   "language": "sage",
   "name": "sagemath"
  },
  "language_info": {
   "codemirror_mode": {
    "name": "ipython",
    "version": 3
   },
   "file_extension": ".py",
   "mimetype": "text/x-python",
   "name": "python",
   "nbconvert_exporter": "python",
   "pygments_lexer": "ipython3",
   "version": "3.10.8"
  }
 },
 "nbformat": 4,
 "nbformat_minor": 5
}
